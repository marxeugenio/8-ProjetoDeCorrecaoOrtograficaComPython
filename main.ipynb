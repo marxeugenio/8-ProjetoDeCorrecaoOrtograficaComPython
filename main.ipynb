{
 "cells": [
  {
   "cell_type": "code",
   "execution_count": 2,
   "metadata": {},
   "outputs": [
    {
     "name": "stdout",
     "output_type": "stream",
     "text": [
      "Requirement already satisfied: textblob in c:\\users\\marxe\\appdata\\local\\programs\\python\\python310\\lib\\site-packages (0.18.0.post0)\n",
      "Requirement already satisfied: nltk>=3.8 in c:\\users\\marxe\\appdata\\local\\programs\\python\\python310\\lib\\site-packages (from textblob) (3.8.1)\n",
      "Requirement already satisfied: click in c:\\users\\marxe\\appdata\\local\\programs\\python\\python310\\lib\\site-packages (from nltk>=3.8->textblob) (8.1.3)\n",
      "Requirement already satisfied: joblib in c:\\users\\marxe\\appdata\\local\\programs\\python\\python310\\lib\\site-packages (from nltk>=3.8->textblob) (1.2.0)\n",
      "Requirement already satisfied: regex>=2021.8.3 in c:\\users\\marxe\\appdata\\local\\programs\\python\\python310\\lib\\site-packages (from nltk>=3.8->textblob) (2023.6.3)\n",
      "Requirement already satisfied: tqdm in c:\\users\\marxe\\appdata\\local\\programs\\python\\python310\\lib\\site-packages (from nltk>=3.8->textblob) (4.65.0)\n",
      "Requirement already satisfied: colorama in c:\\users\\marxe\\appdata\\local\\programs\\python\\python310\\lib\\site-packages (from click->nltk>=3.8->textblob) (0.4.6)\n",
      "Note: you may need to restart the kernel to use updated packages.\n"
     ]
    },
    {
     "name": "stderr",
     "output_type": "stream",
     "text": [
      "\n",
      "[notice] A new release of pip is available: 23.3.2 -> 24.0\n",
      "[notice] To update, run: python.exe -m pip install --upgrade pip\n"
     ]
    }
   ],
   "source": [
    "pip install textblob"
   ]
  },
  {
   "cell_type": "code",
   "execution_count": 15,
   "metadata": {},
   "outputs": [
    {
     "name": "stdout",
     "output_type": "stream",
     "text": [
      "Palavras erradas:  ['Data ciencie', 'Mahine Learninn', 'Houze']\n",
      "As palavras corrigidas são: \n",
      "Data science Machine Learning House "
     ]
    }
   ],
   "source": [
    "from textblob import TextBlob\n",
    "palavras = [\"Data ciencie\",  \"Mahine Learninn\", \"Houze\"]\n",
    "corretor = []\n",
    "\n",
    "for i in palavras:\n",
    "    corretor.append(TextBlob(i))\n",
    "print(\"Palavras erradas: \", palavras)\n",
    "print(\"As palavras corrigidas são: \")\n",
    "\n",
    "for i in corretor:\n",
    "    print(i.correct(), end=\" \")"
   ]
  }
 ],
 "metadata": {
  "kernelspec": {
   "display_name": "Python 3",
   "language": "python",
   "name": "python3"
  },
  "language_info": {
   "codemirror_mode": {
    "name": "ipython",
    "version": 3
   },
   "file_extension": ".py",
   "mimetype": "text/x-python",
   "name": "python",
   "nbconvert_exporter": "python",
   "pygments_lexer": "ipython3",
   "version": "3.10.2"
  }
 },
 "nbformat": 4,
 "nbformat_minor": 2
}
